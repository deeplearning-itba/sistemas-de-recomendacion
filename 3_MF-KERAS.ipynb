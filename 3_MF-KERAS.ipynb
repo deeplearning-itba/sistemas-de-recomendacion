{
 "cells": [
  {
   "cell_type": "code",
   "execution_count": 1,
   "metadata": {},
   "outputs": [],
   "source": [
    "%load_ext autoreload\n",
    "%autoreload 2"
   ]
  },
  {
   "cell_type": "code",
   "execution_count": 3,
   "metadata": {},
   "outputs": [],
   "source": [
    "import pandas as pd\n",
    "import os"
   ]
  },
  {
   "cell_type": "code",
   "execution_count": 4,
   "metadata": {},
   "outputs": [],
   "source": [
    "os.getenv('MLFLOW_TRACKING_URI')"
   ]
  },
  {
   "cell_type": "code",
   "execution_count": 5,
   "metadata": {},
   "outputs": [
    {
     "data": {
      "text/html": [
       "<div>\n",
       "<style scoped>\n",
       "    .dataframe tbody tr th:only-of-type {\n",
       "        vertical-align: middle;\n",
       "    }\n",
       "\n",
       "    .dataframe tbody tr th {\n",
       "        vertical-align: top;\n",
       "    }\n",
       "\n",
       "    .dataframe thead th {\n",
       "        text-align: right;\n",
       "    }\n",
       "</style>\n",
       "<table border=\"1\" class=\"dataframe\">\n",
       "  <thead>\n",
       "    <tr style=\"text-align: right;\">\n",
       "      <th></th>\n",
       "      <th>userId</th>\n",
       "      <th>movieId</th>\n",
       "      <th>rating</th>\n",
       "      <th>timestamp</th>\n",
       "    </tr>\n",
       "  </thead>\n",
       "  <tbody>\n",
       "    <tr>\n",
       "      <th>0</th>\n",
       "      <td>196</td>\n",
       "      <td>242</td>\n",
       "      <td>3</td>\n",
       "      <td>881250949</td>\n",
       "    </tr>\n",
       "    <tr>\n",
       "      <th>1</th>\n",
       "      <td>186</td>\n",
       "      <td>302</td>\n",
       "      <td>3</td>\n",
       "      <td>891717742</td>\n",
       "    </tr>\n",
       "    <tr>\n",
       "      <th>2</th>\n",
       "      <td>22</td>\n",
       "      <td>377</td>\n",
       "      <td>1</td>\n",
       "      <td>878887116</td>\n",
       "    </tr>\n",
       "    <tr>\n",
       "      <th>3</th>\n",
       "      <td>244</td>\n",
       "      <td>51</td>\n",
       "      <td>2</td>\n",
       "      <td>880606923</td>\n",
       "    </tr>\n",
       "    <tr>\n",
       "      <th>4</th>\n",
       "      <td>166</td>\n",
       "      <td>346</td>\n",
       "      <td>1</td>\n",
       "      <td>886397596</td>\n",
       "    </tr>\n",
       "    <tr>\n",
       "      <th>5</th>\n",
       "      <td>298</td>\n",
       "      <td>474</td>\n",
       "      <td>4</td>\n",
       "      <td>884182806</td>\n",
       "    </tr>\n",
       "    <tr>\n",
       "      <th>6</th>\n",
       "      <td>115</td>\n",
       "      <td>265</td>\n",
       "      <td>2</td>\n",
       "      <td>881171488</td>\n",
       "    </tr>\n",
       "    <tr>\n",
       "      <th>7</th>\n",
       "      <td>253</td>\n",
       "      <td>465</td>\n",
       "      <td>5</td>\n",
       "      <td>891628467</td>\n",
       "    </tr>\n",
       "    <tr>\n",
       "      <th>8</th>\n",
       "      <td>305</td>\n",
       "      <td>451</td>\n",
       "      <td>3</td>\n",
       "      <td>886324817</td>\n",
       "    </tr>\n",
       "    <tr>\n",
       "      <th>9</th>\n",
       "      <td>6</td>\n",
       "      <td>86</td>\n",
       "      <td>3</td>\n",
       "      <td>883603013</td>\n",
       "    </tr>\n",
       "  </tbody>\n",
       "</table>\n",
       "</div>"
      ],
      "text/plain": [
       "   userId  movieId  rating  timestamp\n",
       "0     196      242       3  881250949\n",
       "1     186      302       3  891717742\n",
       "2      22      377       1  878887116\n",
       "3     244       51       2  880606923\n",
       "4     166      346       1  886397596\n",
       "5     298      474       4  884182806\n",
       "6     115      265       2  881171488\n",
       "7     253      465       5  891628467\n",
       "8     305      451       3  886324817\n",
       "9       6       86       3  883603013"
      ]
     },
     "execution_count": 5,
     "metadata": {},
     "output_type": "execute_result"
    }
   ],
   "source": [
    "header = ['userId', 'movieId', 'rating', 'timestamp']\n",
    "ratings = pd.read_csv('./ml-100k/u.data', sep='\\t', names=header)\n",
    "ratings.head(10)"
   ]
  },
  {
   "cell_type": "code",
   "execution_count": 6,
   "metadata": {},
   "outputs": [
    {
     "data": {
      "text/html": [
       "<div>\n",
       "<style scoped>\n",
       "    .dataframe tbody tr th:only-of-type {\n",
       "        vertical-align: middle;\n",
       "    }\n",
       "\n",
       "    .dataframe tbody tr th {\n",
       "        vertical-align: top;\n",
       "    }\n",
       "\n",
       "    .dataframe thead th {\n",
       "        text-align: right;\n",
       "    }\n",
       "</style>\n",
       "<table border=\"1\" class=\"dataframe\">\n",
       "  <thead>\n",
       "    <tr style=\"text-align: right;\">\n",
       "      <th></th>\n",
       "      <th>userId</th>\n",
       "      <th>movieId</th>\n",
       "      <th>rating</th>\n",
       "      <th>timestamp</th>\n",
       "    </tr>\n",
       "  </thead>\n",
       "  <tbody>\n",
       "    <tr>\n",
       "      <th>count</th>\n",
       "      <td>100000.00000</td>\n",
       "      <td>100000.000000</td>\n",
       "      <td>100000.000000</td>\n",
       "      <td>1.000000e+05</td>\n",
       "    </tr>\n",
       "    <tr>\n",
       "      <th>mean</th>\n",
       "      <td>462.48475</td>\n",
       "      <td>425.530130</td>\n",
       "      <td>3.529860</td>\n",
       "      <td>8.835289e+08</td>\n",
       "    </tr>\n",
       "    <tr>\n",
       "      <th>std</th>\n",
       "      <td>266.61442</td>\n",
       "      <td>330.798356</td>\n",
       "      <td>1.125674</td>\n",
       "      <td>5.343856e+06</td>\n",
       "    </tr>\n",
       "    <tr>\n",
       "      <th>min</th>\n",
       "      <td>1.00000</td>\n",
       "      <td>1.000000</td>\n",
       "      <td>1.000000</td>\n",
       "      <td>8.747247e+08</td>\n",
       "    </tr>\n",
       "    <tr>\n",
       "      <th>25%</th>\n",
       "      <td>254.00000</td>\n",
       "      <td>175.000000</td>\n",
       "      <td>3.000000</td>\n",
       "      <td>8.794487e+08</td>\n",
       "    </tr>\n",
       "    <tr>\n",
       "      <th>50%</th>\n",
       "      <td>447.00000</td>\n",
       "      <td>322.000000</td>\n",
       "      <td>4.000000</td>\n",
       "      <td>8.828269e+08</td>\n",
       "    </tr>\n",
       "    <tr>\n",
       "      <th>75%</th>\n",
       "      <td>682.00000</td>\n",
       "      <td>631.000000</td>\n",
       "      <td>4.000000</td>\n",
       "      <td>8.882600e+08</td>\n",
       "    </tr>\n",
       "    <tr>\n",
       "      <th>max</th>\n",
       "      <td>943.00000</td>\n",
       "      <td>1682.000000</td>\n",
       "      <td>5.000000</td>\n",
       "      <td>8.932866e+08</td>\n",
       "    </tr>\n",
       "  </tbody>\n",
       "</table>\n",
       "</div>"
      ],
      "text/plain": [
       "             userId        movieId         rating     timestamp\n",
       "count  100000.00000  100000.000000  100000.000000  1.000000e+05\n",
       "mean      462.48475     425.530130       3.529860  8.835289e+08\n",
       "std       266.61442     330.798356       1.125674  5.343856e+06\n",
       "min         1.00000       1.000000       1.000000  8.747247e+08\n",
       "25%       254.00000     175.000000       3.000000  8.794487e+08\n",
       "50%       447.00000     322.000000       4.000000  8.828269e+08\n",
       "75%       682.00000     631.000000       4.000000  8.882600e+08\n",
       "max       943.00000    1682.000000       5.000000  8.932866e+08"
      ]
     },
     "execution_count": 6,
     "metadata": {},
     "output_type": "execute_result"
    }
   ],
   "source": [
    "ratings.describe()"
   ]
  },
  {
   "cell_type": "code",
   "execution_count": 5,
   "metadata": {},
   "outputs": [],
   "source": [
    "u_unique = ratings.userId.unique()\n",
    "user2Idx = {o:i+1 for i,o in enumerate(u_unique)}\n",
    "\n",
    "m_unique = ratings.movieId.unique()\n",
    "movie2Idx = {o:i+1 for i,o in enumerate(m_unique)}"
   ]
  },
  {
   "cell_type": "code",
   "execution_count": 6,
   "metadata": {},
   "outputs": [
    {
     "name": "stdout",
     "output_type": "stream",
     "text": [
      "{196: 1, 186: 2, 22: 3, 244: 4, 166: 5, 298: 6, 115: 7, 253: 8, 305: 9, 6: 10}\n",
      "{242: 1, 302: 2, 377: 3, 51: 4, 346: 5, 474: 6, 265: 7, 465: 8, 451: 9, 86: 10}\n"
     ]
    }
   ],
   "source": [
    "# Ver parte de los diccionarios\n",
    "print(dict(list(user2Idx.items())[0:10]))\n",
    "print(dict(list(movie2Idx.items())[0:10]))"
   ]
  },
  {
   "cell_type": "code",
   "execution_count": 7,
   "metadata": {},
   "outputs": [],
   "source": [
    "ratings.userId = ratings.userId.apply(lambda x: user2Idx[x])\n",
    "ratings.movieId = ratings.movieId.apply(lambda x: movie2Idx[x])"
   ]
  },
  {
   "cell_type": "code",
   "execution_count": 8,
   "metadata": {},
   "outputs": [
    {
     "data": {
      "text/html": [
       "<div>\n",
       "<style scoped>\n",
       "    .dataframe tbody tr th:only-of-type {\n",
       "        vertical-align: middle;\n",
       "    }\n",
       "\n",
       "    .dataframe tbody tr th {\n",
       "        vertical-align: top;\n",
       "    }\n",
       "\n",
       "    .dataframe thead th {\n",
       "        text-align: right;\n",
       "    }\n",
       "</style>\n",
       "<table border=\"1\" class=\"dataframe\">\n",
       "  <thead>\n",
       "    <tr style=\"text-align: right;\">\n",
       "      <th></th>\n",
       "      <th>userId</th>\n",
       "      <th>movieId</th>\n",
       "      <th>rating</th>\n",
       "      <th>timestamp</th>\n",
       "    </tr>\n",
       "  </thead>\n",
       "  <tbody>\n",
       "    <tr>\n",
       "      <th>0</th>\n",
       "      <td>1</td>\n",
       "      <td>1</td>\n",
       "      <td>3</td>\n",
       "      <td>881250949</td>\n",
       "    </tr>\n",
       "    <tr>\n",
       "      <th>1</th>\n",
       "      <td>2</td>\n",
       "      <td>2</td>\n",
       "      <td>3</td>\n",
       "      <td>891717742</td>\n",
       "    </tr>\n",
       "    <tr>\n",
       "      <th>2</th>\n",
       "      <td>3</td>\n",
       "      <td>3</td>\n",
       "      <td>1</td>\n",
       "      <td>878887116</td>\n",
       "    </tr>\n",
       "    <tr>\n",
       "      <th>3</th>\n",
       "      <td>4</td>\n",
       "      <td>4</td>\n",
       "      <td>2</td>\n",
       "      <td>880606923</td>\n",
       "    </tr>\n",
       "    <tr>\n",
       "      <th>4</th>\n",
       "      <td>5</td>\n",
       "      <td>5</td>\n",
       "      <td>1</td>\n",
       "      <td>886397596</td>\n",
       "    </tr>\n",
       "  </tbody>\n",
       "</table>\n",
       "</div>"
      ],
      "text/plain": [
       "   userId  movieId  rating  timestamp\n",
       "0       1        1       3  881250949\n",
       "1       2        2       3  891717742\n",
       "2       3        3       1  878887116\n",
       "3       4        4       2  880606923\n",
       "4       5        5       1  886397596"
      ]
     },
     "execution_count": 8,
     "metadata": {},
     "output_type": "execute_result"
    }
   ],
   "source": [
    "ratings.head()"
   ]
  },
  {
   "cell_type": "code",
   "execution_count": 9,
   "metadata": {},
   "outputs": [],
   "source": [
    "from sklearn.model_selection import train_test_split\n",
    "ratings_train, ratings_val = train_test_split(ratings, test_size=0.2)\n"
   ]
  },
  {
   "cell_type": "code",
   "execution_count": 10,
   "metadata": {},
   "outputs": [
    {
     "data": {
      "text/plain": [
       "(80000, 20000)"
      ]
     },
     "execution_count": 10,
     "metadata": {},
     "output_type": "execute_result"
    }
   ],
   "source": [
    "n_split = 20000\n",
    "ratings_train = ratings[n_split:]\n",
    "ratings_val = ratings[:n_split]\n",
    "len(ratings_train), len(ratings_val)"
   ]
  },
  {
   "cell_type": "code",
   "execution_count": 11,
   "metadata": {},
   "outputs": [
    {
     "data": {
      "text/html": [
       "<div>\n",
       "<style scoped>\n",
       "    .dataframe tbody tr th:only-of-type {\n",
       "        vertical-align: middle;\n",
       "    }\n",
       "\n",
       "    .dataframe tbody tr th {\n",
       "        vertical-align: top;\n",
       "    }\n",
       "\n",
       "    .dataframe thead th {\n",
       "        text-align: right;\n",
       "    }\n",
       "</style>\n",
       "<table border=\"1\" class=\"dataframe\">\n",
       "  <thead>\n",
       "    <tr style=\"text-align: right;\">\n",
       "      <th></th>\n",
       "      <th>userId</th>\n",
       "      <th>movieId</th>\n",
       "      <th>rating</th>\n",
       "      <th>timestamp</th>\n",
       "    </tr>\n",
       "  </thead>\n",
       "  <tbody>\n",
       "    <tr>\n",
       "      <th>20000</th>\n",
       "      <td>392</td>\n",
       "      <td>13</td>\n",
       "      <td>2</td>\n",
       "      <td>877399864</td>\n",
       "    </tr>\n",
       "    <tr>\n",
       "      <th>20001</th>\n",
       "      <td>457</td>\n",
       "      <td>882</td>\n",
       "      <td>4</td>\n",
       "      <td>886365297</td>\n",
       "    </tr>\n",
       "    <tr>\n",
       "      <th>20002</th>\n",
       "      <td>111</td>\n",
       "      <td>61</td>\n",
       "      <td>4</td>\n",
       "      <td>875306477</td>\n",
       "    </tr>\n",
       "    <tr>\n",
       "      <th>20003</th>\n",
       "      <td>176</td>\n",
       "      <td>1315</td>\n",
       "      <td>2</td>\n",
       "      <td>874951695</td>\n",
       "    </tr>\n",
       "    <tr>\n",
       "      <th>20004</th>\n",
       "      <td>122</td>\n",
       "      <td>658</td>\n",
       "      <td>4</td>\n",
       "      <td>877879172</td>\n",
       "    </tr>\n",
       "  </tbody>\n",
       "</table>\n",
       "</div>"
      ],
      "text/plain": [
       "       userId  movieId  rating  timestamp\n",
       "20000     392       13       2  877399864\n",
       "20001     457      882       4  886365297\n",
       "20002     111       61       4  875306477\n",
       "20003     176     1315       2  874951695\n",
       "20004     122      658       4  877879172"
      ]
     },
     "execution_count": 11,
     "metadata": {},
     "output_type": "execute_result"
    }
   ],
   "source": [
    "ratings_train.head()"
   ]
  },
  {
   "cell_type": "code",
   "execution_count": 12,
   "metadata": {},
   "outputs": [
    {
     "name": "stdout",
     "output_type": "stream",
     "text": [
      "943 1682 943 1650\n"
     ]
    }
   ],
   "source": [
    "n_users = int(ratings.userId.nunique())\n",
    "n_movies = int(ratings.movieId.nunique())\n",
    "n_users_train = int(ratings_train.userId.nunique())\n",
    "n_movies_train = int(ratings_train.movieId.nunique())\n",
    "print(n_users, n_movies, n_users_train, n_movies_train)"
   ]
  },
  {
   "cell_type": "code",
   "execution_count": null,
   "metadata": {},
   "outputs": [],
   "source": []
  },
  {
   "cell_type": "code",
   "execution_count": 13,
   "metadata": {},
   "outputs": [
    {
     "data": {
      "text/plain": [
       "(943, 1682)"
      ]
     },
     "execution_count": 13,
     "metadata": {},
     "output_type": "execute_result"
    }
   ],
   "source": [
    "# Por el embedding que arranca en 1\n",
    "ratings_train['userId'].max(), ratings_train['movieId'].max()"
   ]
  },
  {
   "cell_type": "code",
   "execution_count": 14,
   "metadata": {},
   "outputs": [
    {
     "name": "stderr",
     "output_type": "stream",
     "text": [
      "2024-07-04 18:17:00.612861: I tensorflow/core/platform/cpu_feature_guard.cc:182] This TensorFlow binary is optimized to use available CPU instructions in performance-critical operations.\n",
      "To enable the following instructions: AVX2 FMA, in other operations, rebuild TensorFlow with the appropriate compiler flags.\n"
     ]
    }
   ],
   "source": [
    "from keras.layers import Embedding, Input, Flatten, Dot\n",
    "from keras.regularizers import l2\n",
    "from keras import Model, Sequential\n",
    "from keras.constraints import non_neg"
   ]
  },
  {
   "cell_type": "code",
   "execution_count": 88,
   "metadata": {},
   "outputs": [],
   "source": [
    "# Parámetros\n",
    "\n",
    "n_latent_factors = 20\n",
    "learning_rate = 0.001\n",
    "epochs = 20"
   ]
  },
  {
   "cell_type": "code",
   "execution_count": 89,
   "metadata": {},
   "outputs": [],
   "source": [
    "movie_input = Input(shape=[1], name='Item')\n",
    "# movie_embedding = Embedding(n_movies + 1, n_latent_factors, name='Movie-Embedding', embeddings_constraint=non_neg())(movie_input)\n",
    "movie_embedding = Embedding(\n",
    "    n_movies + 1, n_latent_factors, \n",
    "    mask_zero=True,\n",
    "    # embeddings_regularizer=l2(0.001),\n",
    "    name='Movie-Embedding'\n",
    ")(\n",
    "    movie_input\n",
    ")\n",
    "movie_vec = Flatten(name='FlattenMovies')(movie_embedding)\n",
    "\n",
    "user_input = Input(shape=[1],name='User')\n",
    "user_vec = Flatten(name='FlattenUsers')(Embedding(\n",
    "    n_users + 1, n_latent_factors, mask_zero=True, name='User-Embedding')(user_input))\n",
    "#user_vec = Flatten(name='FlattenUsers')(Embedding(n_users + 1, \n",
    "#                                                  n_latent_factors,name='User-Embedding', embeddings_constraint=non_neg())(user_input))"
   ]
  },
  {
   "cell_type": "code",
   "execution_count": 90,
   "metadata": {},
   "outputs": [
    {
     "name": "stdout",
     "output_type": "stream",
     "text": [
      "Model: \"model_5\"\n",
      "__________________________________________________________________________________________________\n",
      " Layer (type)                Output Shape                 Param #   Connected to                  \n",
      "==================================================================================================\n",
      " Item (InputLayer)           [(None, 1)]                  0         []                            \n",
      "                                                                                                  \n",
      " User (InputLayer)           [(None, 1)]                  0         []                            \n",
      "                                                                                                  \n",
      " Movie-Embedding (Embedding  (None, 1, 20)                33660     ['Item[0][0]']                \n",
      " )                                                                                                \n",
      "                                                                                                  \n",
      " User-Embedding (Embedding)  (None, 1, 20)                18880     ['User[0][0]']                \n",
      "                                                                                                  \n",
      " FlattenMovies (Flatten)     (None, 20)                   0         ['Movie-Embedding[0][0]']     \n",
      "                                                                                                  \n",
      " FlattenUsers (Flatten)      (None, 20)                   0         ['User-Embedding[0][0]']      \n",
      "                                                                                                  \n",
      " DotProduct (Dot)            (None, 1)                    0         ['FlattenMovies[0][0]',       \n",
      "                                                                     'FlattenUsers[0][0]']        \n",
      "                                                                                                  \n",
      "==================================================================================================\n",
      "Total params: 52540 (205.23 KB)\n",
      "Trainable params: 52540 (205.23 KB)\n",
      "Non-trainable params: 0 (0.00 Byte)\n",
      "__________________________________________________________________________________________________\n"
     ]
    }
   ],
   "source": [
    "prod = Dot(axes=1, name='DotProduct')([movie_vec, user_vec])\n",
    "model = Model([user_input, movie_input], prod)\n",
    "model.summary()"
   ]
  },
  {
   "cell_type": "code",
   "execution_count": 91,
   "metadata": {},
   "outputs": [],
   "source": [
    "from keras.optimizers import Adam, SGD"
   ]
  },
  {
   "cell_type": "code",
   "execution_count": 92,
   "metadata": {},
   "outputs": [],
   "source": [
    "from fnn_helper import PlotLosses\n",
    "plot_losses = PlotLosses(1, None)"
   ]
  },
  {
   "cell_type": "code",
   "execution_count": 93,
   "metadata": {},
   "outputs": [],
   "source": [
    "import keras.backend as K \n",
    "def root_mean_squared_error(y_true, y_pred):\n",
    "    return K.sqrt(K.mean(K.square(y_pred - y_true))) "
   ]
  },
  {
   "cell_type": "code",
   "execution_count": 94,
   "metadata": {},
   "outputs": [],
   "source": [
    "model.compile(Adam(learning_rate=learning_rate), 'mean_squared_error', metrics=[root_mean_squared_error])"
   ]
  },
  {
   "cell_type": "code",
   "execution_count": 95,
   "metadata": {},
   "outputs": [
    {
     "data": {
      "text/plain": [
       "80000"
      ]
     },
     "execution_count": 95,
     "metadata": {},
     "output_type": "execute_result"
    }
   ],
   "source": [
    "len(ratings_train)"
   ]
  },
  {
   "cell_type": "code",
   "execution_count": 96,
   "metadata": {},
   "outputs": [
    {
     "data": {
      "text/plain": [
       "[20000    392\n",
       " 20001    457\n",
       " 20002    111\n",
       " 20003    176\n",
       " 20004    122\n",
       "         ... \n",
       " 99995    876\n",
       " 99996    709\n",
       " 99997     38\n",
       " 99998     59\n",
       " 99999    305\n",
       " Name: userId, Length: 80000, dtype: int64,\n",
       " 20000      13\n",
       " 20001     882\n",
       " 20002      61\n",
       " 20003    1315\n",
       " 20004     658\n",
       "          ... \n",
       " 99995     174\n",
       " 99996     248\n",
       " 99997    1005\n",
       " 99998     444\n",
       " 99999     507\n",
       " Name: movieId, Length: 80000, dtype: int64]"
      ]
     },
     "execution_count": 96,
     "metadata": {},
     "output_type": "execute_result"
    }
   ],
   "source": [
    "[ratings_train.userId, ratings_train.movieId]"
   ]
  },
  {
   "cell_type": "code",
   "execution_count": 97,
   "metadata": {},
   "outputs": [
    {
     "data": {
      "image/png": "[encoded data removed]",
      "text/plain": [
       "<Figure size 2000x500 with 2 Axes>"
      ]
     },
     "metadata": {},
     "output_type": "display_data"
    },
    {
     "name": "stdout",
     "output_type": "stream",
     "text": [
      "200/200 [==============================] - 1s 3ms/step - loss: 0.8368 - root_mean_squared_error: 0.9140 - val_loss: 0.9223 - val_root_mean_squared_error: 0.9595\n"
     ]
    }
   ],
   "source": [
    "history = model.fit(\n",
    "    [ratings_train.userId, ratings_train.movieId], \n",
    "    ratings_train.rating, \n",
    "    batch_size=400,\n",
    "    validation_data=([ratings_val.userId, ratings_val.movieId], ratings_val.rating), \n",
    "    epochs=epochs, \n",
    "    callbacks = [plot_losses],\n",
    "    verbose=1)"
   ]
  },
  {
   "cell_type": "markdown",
   "metadata": {},
   "source": []
  },
  {
   "cell_type": "code",
   "execution_count": 98,
   "metadata": {},
   "outputs": [
    {
     "data": {
      "text/plain": [
       "['loss', 'root_mean_squared_error']"
      ]
     },
     "execution_count": 98,
     "metadata": {},
     "output_type": "execute_result"
    }
   ],
   "source": [
    "model.metrics_names"
   ]
  },
  {
   "cell_type": "code",
   "execution_count": 99,
   "metadata": {},
   "outputs": [
    {
     "name": "stdout",
     "output_type": "stream",
     "text": [
      "625/625 [==============================] - 1s 1ms/step - loss: 0.9223 - root_mean_squared_error: 0.9516\n"
     ]
    },
    {
     "data": {
      "text/plain": [
       "(0.9223496317863464, 0.9515638947486877)"
      ]
     },
     "execution_count": 99,
     "metadata": {},
     "output_type": "execute_result"
    }
   ],
   "source": [
    "loss_val, rmse_val = model.evaluate([ratings_val.userId, ratings_val.movieId], ratings_val.rating)\n",
    "loss_val, rmse_val"
   ]
  },
  {
   "cell_type": "code",
   "execution_count": 100,
   "metadata": {},
   "outputs": [
    {
     "name": "stdout",
     "output_type": "stream",
     "text": [
      "2500/2500 [==============================] - 3s 1ms/step - loss: 0.8184 - root_mean_squared_error: 0.8965\n"
     ]
    },
    {
     "data": {
      "text/plain": [
       "(0.8184419870376587, 0.8964872360229492)"
      ]
     },
     "execution_count": 100,
     "metadata": {},
     "output_type": "execute_result"
    }
   ],
   "source": [
    "loss_train, rmse_train = model.evaluate([ratings_train.userId, ratings_train.movieId], ratings_train.rating)\n",
    "loss_train, rmse_train"
   ]
  },
  {
   "cell_type": "code",
   "execution_count": 101,
   "metadata": {},
   "outputs": [
    {
     "data": {
      "text/plain": [
       "<Experiment: artifact_location='file:///Users/julian/Documents/repos/sistemas-de-recomendacion/mlruns/229720450832614780', creation_time=1720128221349, experiment_id='229720450832614780', last_update_time=1720128221349, lifecycle_stage='active', name='sistemas-de-recomendación', tags={}>"
      ]
     },
     "execution_count": 101,
     "metadata": {},
     "output_type": "execute_result"
    }
   ],
   "source": [
    "import mlflow\n",
    "mlflow.set_experiment('sistemas-de-recomendación')"
   ]
  },
  {
   "cell_type": "code",
   "execution_count": 102,
   "metadata": {},
   "outputs": [],
   "source": [
    "mlflow.log_params({\n",
    "    'n_latent_factors': n_latent_factors,\n",
    "    'learning_rate': learning_rate,\n",
    "    'epochs': epochs\n",
    "})"
   ]
  },
  {
   "cell_type": "code",
   "execution_count": 103,
   "metadata": {},
   "outputs": [],
   "source": [
    "mlflow.log_metrics({\n",
    "    'loss_val': loss_val, 'rmse_val':rmse_val,\n",
    "    'loss_train': loss_train, 'rmse_train':rmse_train,\n",
    "})"
   ]
  },
  {
   "cell_type": "code",
   "execution_count": 104,
   "metadata": {},
   "outputs": [],
   "source": [
    "mlflow.end_run()"
   ]
  },
  {
   "cell_type": "markdown",
   "metadata": {},
   "source": [
    "# Embeddings"
   ]
  },
  {
   "cell_type": "code",
   "execution_count": 106,
   "metadata": {},
   "outputs": [
    {
     "name": "stdout",
     "output_type": "stream",
     "text": [
      "Model: \"model_5\"\n",
      "__________________________________________________________________________________________________\n",
      " Layer (type)                Output Shape                 Param #   Connected to                  \n",
      "==================================================================================================\n",
      " Item (InputLayer)           [(None, 1)]                  0         []                            \n",
      "                                                                                                  \n",
      " User (InputLayer)           [(None, 1)]                  0         []                            \n",
      "                                                                                                  \n",
      " Movie-Embedding (Embedding  (None, 1, 20)                33660     ['Item[0][0]']                \n",
      " )                                                                                                \n",
      "                                                                                                  \n",
      " User-Embedding (Embedding)  (None, 1, 20)                18880     ['User[0][0]']                \n",
      "                                                                                                  \n",
      " FlattenMovies (Flatten)     (None, 20)                   0         ['Movie-Embedding[0][0]']     \n",
      "                                                                                                  \n",
      " FlattenUsers (Flatten)      (None, 20)                   0         ['User-Embedding[0][0]']      \n",
      "                                                                                                  \n",
      " DotProduct (Dot)            (None, 1)                    0         ['FlattenMovies[0][0]',       \n",
      "                                                                     'FlattenUsers[0][0]']        \n",
      "                                                                                                  \n",
      "==================================================================================================\n",
      "Total params: 52540 (205.23 KB)\n",
      "Trainable params: 52540 (205.23 KB)\n",
      "Non-trainable params: 0 (0.00 Byte)\n",
      "__________________________________________________________________________________________________\n"
     ]
    }
   ],
   "source": [
    "model.summary()"
   ]
  },
  {
   "cell_type": "code",
   "execution_count": 108,
   "metadata": {},
   "outputs": [
    {
     "data": {
      "text/plain": [
       "[<keras.src.engine.input_layer.InputLayer at 0x7fb429c8e580>,\n",
       " <keras.src.engine.input_layer.InputLayer at 0x7fb4297bfa30>,\n",
       " <keras.src.layers.core.embedding.Embedding at 0x7fb429cb5880>,\n",
       " <keras.src.layers.core.embedding.Embedding at 0x7fb428b04700>,\n",
       " <keras.src.layers.reshaping.flatten.Flatten at 0x7fb428a7c130>,\n",
       " <keras.src.layers.reshaping.flatten.Flatten at 0x7fb43d7eea60>,\n",
       " <keras.src.layers.merging.dot.Dot at 0x7fb428aefc70>]"
      ]
     },
     "execution_count": 108,
     "metadata": {},
     "output_type": "execute_result"
    }
   ],
   "source": [
    "model.layers"
   ]
  },
  {
   "cell_type": "code",
   "execution_count": 109,
   "metadata": {},
   "outputs": [],
   "source": [
    "movie_embeddings_layer = model.layers[2]\n",
    "user_embeddings_layer = model.layers[3]"
   ]
  },
  {
   "cell_type": "code",
   "execution_count": 111,
   "metadata": {},
   "outputs": [
    {
     "data": {
      "text/plain": [
       "('Movie-Embedding', 'User-Embedding')"
      ]
     },
     "execution_count": 111,
     "metadata": {},
     "output_type": "execute_result"
    }
   ],
   "source": [
    "movie_embeddings_layer.name, user_embeddings_layer.name"
   ]
  },
  {
   "cell_type": "code",
   "execution_count": 115,
   "metadata": {},
   "outputs": [
    {
     "data": {
      "text/plain": [
       "(1683, 20)"
      ]
     },
     "execution_count": 115,
     "metadata": {},
     "output_type": "execute_result"
    }
   ],
   "source": [
    "movie_embeddings_layer.get_weights()[0].shape"
   ]
  },
  {
   "cell_type": "code",
   "execution_count": 118,
   "metadata": {},
   "outputs": [
    {
     "data": {
      "text/plain": [
       "array([-0.49272838, -0.3763813 , -0.54989237, -0.44893268,  0.44349885,\n",
       "       -0.43127617,  0.39833125, -0.47118184,  0.4676542 , -0.3838577 ,\n",
       "        0.46160153,  0.43226236,  0.49496487, -0.48549038, -0.42564574,\n",
       "       -0.54094315,  0.42494848, -0.38577464,  0.38136035,  0.393747  ],\n",
       "      dtype=float32)"
      ]
     },
     "execution_count": 118,
     "metadata": {},
     "output_type": "execute_result"
    }
   ],
   "source": [
    "user_embeddings_layer.get_weights()[0][54]"
   ]
  },
  {
   "cell_type": "code",
   "execution_count": 57,
   "metadata": {},
   "outputs": [
    {
     "data": {
      "text/plain": [
       "((1683, 5), (944, 5), 1682, 943)"
      ]
     },
     "execution_count": 57,
     "metadata": {},
     "output_type": "execute_result"
    }
   ],
   "source": [
    "movie_embeddings_matrix = movie_embeddings_layer.get_weights()[0]\n",
    "user_embeddings_matrix = user_embeddings_layer.get_weights()[0]\n",
    "movie_embeddings_matrix.shape, user_embeddings_matrix.shape, n_movies, n_users"
   ]
  },
  {
   "cell_type": "code",
   "execution_count": 60,
   "metadata": {},
   "outputs": [],
   "source": [
    "import numpy as np\n",
    "\n",
    "np.save('vectors/movie_embeddings_matrix.npy', movie_embeddings_matrix)\n",
    "np.save('vectors/user_embeddings_matrix.npy', user_embeddings_matrix)\n",
    "np.save('vectors/user2Idx.npy', user2Idx)\n",
    "np.save('vectors/movie2Idx.npy', movie2Idx)"
   ]
  },
  {
   "cell_type": "code",
   "execution_count": null,
   "metadata": {},
   "outputs": [],
   "source": []
  },
  {
   "cell_type": "code",
   "execution_count": 77,
   "metadata": {},
   "outputs": [],
   "source": [
    "from sklearn.metrics.pairwise import pairwise_distances\n"
   ]
  },
  {
   "cell_type": "code",
   "execution_count": 45,
   "metadata": {},
   "outputs": [
    {
     "data": {
      "text/plain": [
       "(array([ 0.8542718 , -0.6730329 , -0.94418526,  0.3480935 ,  1.204144  ],\n",
       "       dtype=float32),\n",
       " array([ 1.086546  , -0.5747258 , -0.68991774,  0.9306461 ,  0.44092357],\n",
       "       dtype=float32))"
      ]
     },
     "execution_count": 45,
     "metadata": {},
     "output_type": "execute_result"
    }
   ],
   "source": [
    "movie_embeddings_matrix[18], movie_embeddings_matrix[17]"
   ]
  },
  {
   "cell_type": "code",
   "execution_count": 69,
   "metadata": {},
   "outputs": [],
   "source": [
    "model_test_emb = Model(inputs=[user_input, movie_input], outputs=[movie_embedding, prod])"
   ]
  },
  {
   "cell_type": "code",
   "execution_count": 94,
   "metadata": {},
   "outputs": [
    {
     "name": "stdout",
     "output_type": "stream",
     "text": [
      "1/1 [==============================] - 0s 72ms/step\n"
     ]
    }
   ],
   "source": [
    "import numpy as np\n",
    "movie_vects, prod = model_test_emb.predict([np.array([15, 19, 19]), np.array([19, 19, 17])])"
   ]
  },
  {
   "cell_type": "code",
   "execution_count": 95,
   "metadata": {},
   "outputs": [
    {
     "data": {
      "text/plain": [
       "array([[[ 0.53025186, -0.6212062 , -0.9628908 ,  0.39879707,\n",
       "          1.0183728 ]],\n",
       "\n",
       "       [[ 0.53025186, -0.6212062 , -0.9628908 ,  0.39879707,\n",
       "          1.0183728 ]],\n",
       "\n",
       "       [[ 1.086546  , -0.5747258 , -0.68991774,  0.9306461 ,\n",
       "          0.44092357]]], dtype=float32)"
      ]
     },
     "execution_count": 95,
     "metadata": {},
     "output_type": "execute_result"
    }
   ],
   "source": [
    "movie_vects"
   ]
  },
  {
   "cell_type": "code",
   "execution_count": 97,
   "metadata": {},
   "outputs": [
    {
     "data": {
      "text/plain": [
       "array([[0.17091465]], dtype=float32)"
      ]
     },
     "execution_count": 97,
     "metadata": {},
     "output_type": "execute_result"
    }
   ],
   "source": [
    "pairwise_distances(movie_vects[0], movie_vects[2], metric='cosine')"
   ]
  },
  {
   "cell_type": "code",
   "execution_count": 102,
   "metadata": {},
   "outputs": [],
   "source": [
    "from sklearn.neighbors import NearestNeighbors"
   ]
  },
  {
   "cell_type": "code",
   "execution_count": 104,
   "metadata": {},
   "outputs": [
    {
     "data": {
      "text/plain": [
       "(1683, 5)"
      ]
     },
     "execution_count": 104,
     "metadata": {},
     "output_type": "execute_result"
    }
   ],
   "source": [
    "movie_embeddings_matrix.shape"
   ]
  },
  {
   "cell_type": "code",
   "execution_count": 111,
   "metadata": {},
   "outputs": [],
   "source": [
    "nn = NearestNeighbors(n_neighbors=5, metric='cosine').fit(movie_embeddings_matrix)"
   ]
  },
  {
   "cell_type": "code",
   "execution_count": 112,
   "metadata": {},
   "outputs": [
    {
     "name": "stdout",
     "output_type": "stream",
     "text": [
      "1/1 [==============================] - 0s 66ms/step\n"
     ]
    }
   ],
   "source": [
    "movie_vects, _ = model_test_emb.predict([np.array([15]), np.array([19])])"
   ]
  },
  {
   "cell_type": "code",
   "execution_count": 113,
   "metadata": {},
   "outputs": [
    {
     "data": {
      "text/plain": [
       "(1, 1, 5)"
      ]
     },
     "execution_count": 113,
     "metadata": {},
     "output_type": "execute_result"
    }
   ],
   "source": [
    "movie_vects.shape"
   ]
  },
  {
   "cell_type": "code",
   "execution_count": 114,
   "metadata": {},
   "outputs": [
    {
     "data": {
      "text/plain": [
       "(array([[1.1920929e-07, 1.6558170e-03, 2.5915504e-03, 2.6733875e-03,\n",
       "         3.4774542e-03]], dtype=float32),\n",
       " array([[ 19, 634, 477, 144, 472]]))"
      ]
     },
     "execution_count": 114,
     "metadata": {},
     "output_type": "execute_result"
    }
   ],
   "source": [
    "nn.kneighbors(movie_vects[0])"
   ]
  },
  {
   "cell_type": "code",
   "execution_count": null,
   "metadata": {},
   "outputs": [],
   "source": []
  }
 ],
 "metadata": {
  "kernelspec": {
   "display_name": "Python 3",
   "language": "python",
   "name": "python3"
  },
  "language_info": {
   "codemirror_mode": {
    "name": "ipython",
    "version": 3
   },
   "file_extension": ".py",
   "mimetype": "text/x-python",
   "name": "python",
   "nbconvert_exporter": "python",
   "pygments_lexer": "ipython3",
   "version": "3.9.17"
  }
 },
 "nbformat": 4,
 "nbformat_minor": 2
}
